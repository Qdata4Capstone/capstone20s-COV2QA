{
  "nbformat": 4,
  "nbformat_minor": 0,
  "metadata": {
    "accelerator": "GPU",
    "colab": {
      "name": "CTScanPrediction.ipynb",
      "provenance": [],
      "collapsed_sections": []
    },
    "kernelspec": {
      "display_name": "Python 3",
      "name": "python3"
    }
  },
  "cells": [
    {
      "cell_type": "markdown",
      "metadata": {
        "id": "dGeMMGuZhZC_"
      },
      "source": [
        "# **CS4774 Final Project**: SARS-CoV-2 CT Scan Prediction\n",
        "Chengyuan Cai, Tiancheng Ren, Yuchen Sun, Yanwen Wang"
      ]
    },
    {
      "cell_type": "markdown",
      "metadata": {
        "id": "IWs9xdIgt607"
      },
      "source": [
        "Import Module"
      ]
    },
    {
      "cell_type": "code",
      "metadata": {
        "id": "h5b9FsQ5euAP",
        "colab": {
          "base_uri": "https://localhost:8080/"
        },
        "outputId": "42854712-8cd6-4b15-c719-78ef38b10ca8"
      },
      "source": [
        "import os\n",
        "import os.path as osp\n",
        "import numpy as np\n",
        "import matplotlib.pyplot as plt\n",
        "import matplotlib.patches as patches\n",
        "\n",
        "from sklearn import preprocessing\n",
        "from sklearn.model_selection import train_test_split\n",
        "from sklearn.neighbors import KNeighborsClassifier\n",
        "from sklearn import neighbors\n",
        "from sklearn import metrics\n",
        "import cv2\n",
        "\n",
        "from sklearn.svm import SVC\n",
        "\n",
        "import tensorflow as tf\n",
        "import progressbar\n",
        "import sklearn\n",
        "from sklearn.utils import shuffle\n",
        "from sklearn.model_selection import GridSearchCV\n",
        "from sklearn.decomposition import PCA\n",
        "from sklearn.metrics import log_loss\n",
        "from sklearn.preprocessing import StandardScaler\n",
        "from sklearn.linear_model import LogisticRegression\n",
        "import sys\n",
        "import pandas as pd\n",
        "import keras\n",
        "import keras.utils\n",
        "from keras.models import Sequential\n",
        "from keras.layers import Dense, Conv2D, MaxPooling2D, Dropout, Flatten\n",
        "from keras.wrappers.scikit_learn import KerasClassifier\n",
        "from keras.optimizers import Adam\n",
        "from keras.metrics import categorical_crossentropy\n",
        "\n",
        "from tensorflow.python.keras import optimizers\n",
        "from tensorflow.python.keras.callbacks import EarlyStopping, ModelCheckpoint\n",
        "\n",
        "\n",
        "from google.colab import drive\n",
        "drive.mount('/content/drive')"
      ],
      "execution_count": null,
      "outputs": [
        {
          "output_type": "stream",
          "text": [
            "Mounted at /content/drive\n"
          ],
          "name": "stdout"
        }
      ]
    },
    {
      "cell_type": "markdown",
      "metadata": {
        "id": "-EvvWSUfuA08"
      },
      "source": [
        "**Data Loading Module**"
      ]
    },
    {
      "cell_type": "code",
      "metadata": {
        "id": "90wfA2cueUfx"
      },
      "source": [
        "def get_data(datafile):\n",
        "  x, y = [], []\n",
        "  for dir in os.listdir(datafile):\n",
        "    full_dir = osp.join(datafile,dir)\n",
        "    print('loading',dir)\n",
        "    content = os.listdir(full_dir)\n",
        "    for i in progressbar.progressbar(range(len(content))):\n",
        "      img = content[i]\n",
        "      original = cv2.imread(osp.join(full_dir,img), cv2.IMREAD_GRAYSCALE)\n",
        "      img_array = cv2.resize(original,(200,200))\n",
        "      img_array = (img_array.flatten())\n",
        "      img_array = img_array.reshape(-1,1).T.flatten()\n",
        "      if dir == 'COVID':\n",
        "        y.append(1)\n",
        "      else:\n",
        "        y.append(0)\n",
        "      x.append(img_array)\n",
        "  print('loading finished\\n')\n",
        "  x, y = np.array(x), np.array(y)\n",
        "  return x, y"
      ],
      "execution_count": null,
      "outputs": []
    },
    {
      "cell_type": "code",
      "metadata": {
        "id": "WSfivYE2XTwh"
      },
      "source": [
        "def load_single_img(img_dir):\n",
        "  original = cv2.imread(img_dir, cv2.IMREAD_GRAYSCALE)\n",
        "  img_array = cv2.resize(original,(200,200))\n",
        "  img_array = (img_array.flatten())\n",
        "  img_array = img_array.reshape(-1,1).T.flatten()\n",
        "  return img_array"
      ],
      "execution_count": null,
      "outputs": []
    },
    {
      "cell_type": "code",
      "metadata": {
        "id": "KCzJq_Maygim"
      },
      "source": [
        "def processData():\n",
        "    xtrain, ytrain = get_data('/content/drive/My Drive/template/archive/')\n",
        "    xtest, ytest = get_data('/content/drive/My Drive/template/test_sample/')\n",
        "    \n",
        "    return xtrain, xtest, ytrain, ytest"
      ],
      "execution_count": null,
      "outputs": []
    },
    {
      "cell_type": "markdown",
      "metadata": {
        "id": "VIzmagbWcnYW"
      },
      "source": [
        "**MLP MODEL**\n"
      ]
    },
    {
      "cell_type": "code",
      "metadata": {
        "id": "zi5PtJSkcqbg"
      },
      "source": [
        "def create_mlp(args=None):\n",
        "  model = keras.Sequential(\n",
        "      [\n",
        "       keras.layers.Flatten(input_shape=(200, 200)),\n",
        "       keras.layers.Dropout(0.2),\n",
        "       keras.layers.Dense(512, activation=\"relu\"),\n",
        "       keras.layers.Dropout(0.2),\n",
        "       keras.layers.Dense(10, activation=(\"sigmoid\")),\n",
        "       ]\n",
        "       )\n",
        "  print(model.summary())\n",
        "\n",
        "  model.compile(\n",
        "      optimizer = \"adadelta\",\n",
        "      loss=tf.keras.losses.BinaryCrossentropy(),\n",
        "      metrics=[\"accuracy\"],\n",
        "      )\n",
        "  return model\n",
        "\n",
        "def train_mlp(x_train, y_train, x_vali=None, y_vali=None, args=None):\n",
        "    y_train = keras.utils.to_categorical(y_train, num_classes=10)\n",
        "    model = create_mlp(args)\n",
        "    history = model.fit(x_train, y_train,\n",
        "                        batch_size=args['batch_size'],\n",
        "                        epochs=args['epochs'],\n",
        "                        verbose=1,\n",
        "                        validation_split=args['validation_split'])\n",
        "    return model, history\n",
        "\n",
        "def train_and_select_model(train_csv):\n",
        "    x_train, y_train = get_data(train_csv)\n",
        "    get_weight(x_train, y_train)\n",
        "\n",
        "    args = {\n",
        "        'learning_rate': 0.001,\n",
        "        'batch_size': 64,\n",
        "        'epochs': 30,\n",
        "        'validation_split': 0.1\n",
        "    }\n",
        "    model, history = train_mlp(x_train, y_train, x_vali=None, y_vali=None, args=args)\n",
        "\n",
        "    validation_accuracy = history.history['val_accuracy']\n",
        "\n",
        "    return model, history"
      ],
      "execution_count": null,
      "outputs": []
    },
    {
      "cell_type": "code",
      "metadata": {
        "id": "J-ydoZzFBuSA"
      },
      "source": [
        "def plot_history(history):\n",
        "    train_loss_history = history.history['loss']\n",
        "    val_loss_history = history.history['val_loss']\n",
        "\n",
        "    train_acc_history = history.history['accuracy']\n",
        "    val_acc_history = history.history['val_accuracy']\n",
        "\n",
        "    # plot\n",
        "    print(train_loss_history)\n",
        "\n",
        "    plt.title('training loss & validation loss')\n",
        "    plt.plot(list(range(len(train_loss_history))), train_loss_history, label='train loss history')\n",
        "    plt.legend()\n",
        "    plt.plot(list(range(len(val_loss_history))), val_loss_history, label='val_loss history')\n",
        "    plt.legend()\n",
        "    plt.show()\n",
        "\n",
        "    plt.title('training accuracy & validation accuracy')\n",
        "    plt.plot(list(range(len(train_acc_history))), train_acc_history, label='train acc histroy')\n",
        "    plt.legend()\n",
        "    plt.plot(list(range(len(val_acc_history))), val_acc_history, label='val acc history')\n",
        "    plt.legend()\n",
        "    plt.show()"
      ],
      "execution_count": null,
      "outputs": []
    },
    {
      "cell_type": "markdown",
      "metadata": {
        "id": "1F1jbxNKf4WC"
      },
      "source": [
        "Run MLP"
      ]
    },
    {
      "cell_type": "code",
      "metadata": {
        "colab": {
          "base_uri": "https://localhost:8080/",
          "height": 1000
        },
        "id": "HgI0G5d8f66v",
        "outputId": "efe74d33-083e-4682-a9cf-d78b6e103bab"
      },
      "source": [
        "# RUN MLP\n",
        "# MLP (RTC)\n",
        "train_file = '/content/drive/My Drive/template/archive/'\n",
        "mlp_model, mlp_history = train_and_select_model(train_file)\n",
        "plot_history(mlp_history)"
      ],
      "execution_count": null,
      "outputs": [
        {
          "output_type": "stream",
          "text": [
            "  2% (30 of 1178) |                      | Elapsed Time: 0:00:00 ETA:   0:00:06"
          ],
          "name": "stderr"
        },
        {
          "output_type": "stream",
          "text": [
            "loading non-COVID\n"
          ],
          "name": "stdout"
        },
        {
          "output_type": "stream",
          "text": [
            "100% (1178 of 1178) |####################| Elapsed Time: 0:00:06 Time:  0:00:06\n",
            "  2% (31 of 1212) |                      | Elapsed Time: 0:00:00 ETA:   0:00:05"
          ],
          "name": "stderr"
        },
        {
          "output_type": "stream",
          "text": [
            "loading COVID\n"
          ],
          "name": "stdout"
        },
        {
          "output_type": "stream",
          "text": [
            "100% (1212 of 1212) |####################| Elapsed Time: 0:00:06 Time:  0:00:06\n"
          ],
          "name": "stderr"
        },
        {
          "output_type": "stream",
          "text": [
            "loading finished\n",
            "\n"
          ],
          "name": "stdout"
        },
        {
          "output_type": "display_data",
          "data": {
            "image/png": "[encoded data removed]",
            "text/plain": [
              "<Figure size 432x288 with 1 Axes>"
            ]
          },
          "metadata": {
            "tags": [],
            "needs_background": "light"
          }
        },
        {
          "output_type": "stream",
          "text": [
            "Model: \"sequential_3\"\n",
            "_________________________________________________________________\n",
            "Layer (type)                 Output Shape              Param #   \n",
            "=================================================================\n",
            "flatten_3 (Flatten)          (None, 40000)             0         \n",
            "_________________________________________________________________\n",
            "dropout_2 (Dropout)          (None, 40000)             0         \n",
            "_________________________________________________________________\n",
            "dense_4 (Dense)              (None, 512)               20480512  \n",
            "_________________________________________________________________\n",
            "dropout_3 (Dropout)          (None, 512)               0         \n",
            "_________________________________________________________________\n",
            "dense_5 (Dense)              (None, 10)                5130      \n",
            "=================================================================\n",
            "Total params: 20,485,642\n",
            "Trainable params: 20,485,642\n",
            "Non-trainable params: 0\n",
            "_________________________________________________________________\n",
            "None\n",
            "Epoch 1/30\n",
            "WARNING:tensorflow:Model was constructed with shape (None, 200, 200) for input Tensor(\"flatten_3_input:0\", shape=(None, 200, 200), dtype=float32), but it was called on an input with incompatible shape (None, 40000).\n",
            "WARNING:tensorflow:Model was constructed with shape (None, 200, 200) for input Tensor(\"flatten_3_input:0\", shape=(None, 200, 200), dtype=float32), but it was called on an input with incompatible shape (None, 40000).\n",
            "34/34 [==============================] - ETA: 0s - loss: 49.3290 - accuracy: 0.2241WARNING:tensorflow:Model was constructed with shape (None, 200, 200) for input Tensor(\"flatten_3_input:0\", shape=(None, 200, 200), dtype=float32), but it was called on an input with incompatible shape (None, 40000).\n",
            "34/34 [==============================] - 0s 14ms/step - loss: 49.3290 - accuracy: 0.2241 - val_loss: 2.7197 - val_accuracy: 0.6820\n",
            "Epoch 2/30\n",
            "34/34 [==============================] - 0s 10ms/step - loss: 15.3059 - accuracy: 0.4770 - val_loss: 1.4361 - val_accuracy: 0.8828\n",
            "Epoch 3/30\n",
            "34/34 [==============================] - 0s 9ms/step - loss: 13.5581 - accuracy: 0.5202 - val_loss: 2.6184 - val_accuracy: 0.6904\n",
            "Epoch 4/30\n",
            "34/34 [==============================] - 0s 9ms/step - loss: 12.5836 - accuracy: 0.5686 - val_loss: 4.1354 - val_accuracy: 0.6820\n",
            "Epoch 5/30\n",
            "34/34 [==============================] - 0s 9ms/step - loss: 11.7903 - accuracy: 0.5867 - val_loss: 4.7754 - val_accuracy: 0.5690\n",
            "Epoch 6/30\n",
            "34/34 [==============================] - 0s 9ms/step - loss: 11.0041 - accuracy: 0.5914 - val_loss: 3.6778 - val_accuracy: 0.6360\n",
            "Epoch 7/30\n",
            "34/34 [==============================] - 0s 9ms/step - loss: 10.0631 - accuracy: 0.6034 - val_loss: 2.0472 - val_accuracy: 0.7950\n",
            "Epoch 8/30\n",
            "34/34 [==============================] - 0s 9ms/step - loss: 9.8145 - accuracy: 0.6183 - val_loss: 5.5300 - val_accuracy: 0.5272\n",
            "Epoch 9/30\n",
            "34/34 [==============================] - 0s 9ms/step - loss: 8.8557 - accuracy: 0.6202 - val_loss: 2.7857 - val_accuracy: 0.7197\n",
            "Epoch 10/30\n",
            "34/34 [==============================] - 0s 9ms/step - loss: 8.4081 - accuracy: 0.6346 - val_loss: 1.7262 - val_accuracy: 0.8075\n",
            "Epoch 11/30\n",
            "34/34 [==============================] - 0s 9ms/step - loss: 7.6328 - accuracy: 0.6323 - val_loss: 0.8117 - val_accuracy: 0.9038\n",
            "Epoch 12/30\n",
            "34/34 [==============================] - 0s 9ms/step - loss: 7.3281 - accuracy: 0.6369 - val_loss: 3.9957 - val_accuracy: 0.6653\n",
            "Epoch 13/30\n",
            "34/34 [==============================] - 0s 9ms/step - loss: 6.7191 - accuracy: 0.6509 - val_loss: 1.6462 - val_accuracy: 0.8075\n",
            "Epoch 14/30\n",
            "34/34 [==============================] - 0s 9ms/step - loss: 6.3136 - accuracy: 0.6430 - val_loss: 2.0352 - val_accuracy: 0.7741\n",
            "Epoch 15/30\n",
            "34/34 [==============================] - 0s 9ms/step - loss: 5.6964 - accuracy: 0.6509 - val_loss: 2.0000 - val_accuracy: 0.7782\n",
            "Epoch 16/30\n",
            "34/34 [==============================] - 0s 9ms/step - loss: 5.3985 - accuracy: 0.6355 - val_loss: 1.6523 - val_accuracy: 0.7782\n",
            "Epoch 17/30\n",
            "34/34 [==============================] - 0s 9ms/step - loss: 4.5542 - accuracy: 0.6462 - val_loss: 1.8443 - val_accuracy: 0.7531\n",
            "Epoch 18/30\n",
            "34/34 [==============================] - 0s 9ms/step - loss: 4.5226 - accuracy: 0.6378 - val_loss: 3.0198 - val_accuracy: 0.5858\n",
            "Epoch 19/30\n",
            "34/34 [==============================] - 0s 9ms/step - loss: 4.0940 - accuracy: 0.6444 - val_loss: 1.4686 - val_accuracy: 0.7322\n",
            "Epoch 20/30\n",
            "34/34 [==============================] - 0s 9ms/step - loss: 3.9036 - accuracy: 0.6337 - val_loss: 0.8042 - val_accuracy: 0.8033\n",
            "Epoch 21/30\n",
            "34/34 [==============================] - 0s 9ms/step - loss: 3.6192 - accuracy: 0.6258 - val_loss: 0.9835 - val_accuracy: 0.7490\n",
            "Epoch 22/30\n",
            "34/34 [==============================] - 0s 9ms/step - loss: 2.9660 - accuracy: 0.6620 - val_loss: 0.4154 - val_accuracy: 0.8494\n",
            "Epoch 23/30\n",
            "34/34 [==============================] - 0s 9ms/step - loss: 2.8666 - accuracy: 0.6541 - val_loss: 0.6621 - val_accuracy: 0.7657\n",
            "Epoch 24/30\n",
            "34/34 [==============================] - 0s 10ms/step - loss: 2.6120 - accuracy: 0.6374 - val_loss: 0.4438 - val_accuracy: 0.8075\n",
            "Epoch 25/30\n",
            "34/34 [==============================] - 0s 9ms/step - loss: 2.4291 - accuracy: 0.6337 - val_loss: 0.1824 - val_accuracy: 0.8912\n",
            "Epoch 26/30\n",
            "34/34 [==============================] - 0s 9ms/step - loss: 2.3132 - accuracy: 0.6216 - val_loss: 0.5799 - val_accuracy: 0.7113\n",
            "Epoch 27/30\n",
            "34/34 [==============================] - 0s 9ms/step - loss: 2.2022 - accuracy: 0.6346 - val_loss: 0.2374 - val_accuracy: 0.8368\n",
            "Epoch 28/30\n",
            "34/34 [==============================] - 0s 9ms/step - loss: 2.0366 - accuracy: 0.6323 - val_loss: 0.1764 - val_accuracy: 0.8828\n",
            "Epoch 29/30\n",
            "34/34 [==============================] - 0s 9ms/step - loss: 2.0267 - accuracy: 0.6127 - val_loss: 0.1600 - val_accuracy: 0.8954\n",
            "Epoch 30/30\n",
            "34/34 [==============================] - 0s 9ms/step - loss: 1.8283 - accuracy: 0.6188 - val_loss: 0.1395 - val_accuracy: 0.9205\n",
            "[49.32899856567383, 15.305874824523926, 13.55811595916748, 12.583649635314941, 11.790310859680176, 11.004094123840332, 10.063136100769043, 9.814529418945312, 8.855672836303711, 8.408097267150879, 7.632837772369385, 7.328063011169434, 6.719143390655518, 6.313557147979736, 5.69638204574585, 5.398509502410889, 4.554169178009033, 4.522570610046387, 4.094045162200928, 3.903564453125, 3.6191670894622803, 2.965991497039795, 2.8665759563446045, 2.611985683441162, 2.4291281700134277, 2.3131752014160156, 2.202199697494507, 2.036574125289917, 2.026737928390503, 1.828330159187317]\n"
          ],
          "name": "stdout"
        },
        {
          "output_type": "display_data",
          "data": {
            "image/png": "[encoded data removed]",
            "text/plain": [
              "<Figure size 432x288 with 1 Axes>"
            ]
          },
          "metadata": {
            "tags": [],
            "needs_background": "light"
          }
        },
        {
          "output_type": "display_data",
          "data": {
            "image/png": "[encoded data removed]",
            "text/plain": [
              "<Figure size 432x288 with 1 Axes>"
            ]
          },
          "metadata": {
            "tags": [],
            "needs_background": "light"
          }
        }
      ]
    },
    {
      "cell_type": "markdown",
      "metadata": {
        "id": "Gd2YTYKqr3f_"
      },
      "source": [
        "**CNN MODEL**"
      ]
    },
    {
      "cell_type": "code",
      "metadata": {
        "id": "-qPcvbi9r2RX"
      },
      "source": [
        "def create_cnn(args=None):\n",
        "    input_shape = (200, 200, 1)\n",
        "\n",
        "    # Define model architecture\n",
        "    model = Sequential()\n",
        "    model.add(Conv2D(filters= 30, activation= 'relu', kernel_size=(3,3) , strides= (1,1), input_shape=input_shape))\n",
        "    model.add(MaxPooling2D(pool_size=(2,2) , strides=2))\n",
        "    model.add(Conv2D(filters= 60, activation= 'relu', kernel_size=(3,3) , strides= (1,1)))\n",
        "    model.add(MaxPooling2D(pool_size=(2,2) , strides=2))\n",
        "    model.add(Flatten())\n",
        "    model.add(Dense(units=1, activation='sigmoid' ))\n",
        "    optimizer = keras.optimizers.Adam(lr=0.001)\n",
        "    model.summary()\n",
        "\n",
        "    # Compile\n",
        "    model.compile(loss='binary_crossentropy', optimizer=optimizer, metrics=['accuracy'])\n",
        "\n",
        "    return model\n",
        "\n",
        "def train_model(x_train, y_train, validation_split=0.1, args=None):\n",
        "    x_train = x_train.reshape(-1, 200, 200, 1)\n",
        "    model = create_cnn(args)\n",
        "    history = model.fit(x_train,y_train,epochs=args['epochs'],batch_size=args['batch_size'],verbose=1,validation_split=validation_split)\n",
        "\n",
        "    return model, history\n",
        "  \n",
        "def train_and_select_model_cnn(x_train, y_train):\n",
        "    args = {\n",
        "        'learning_rate': 0.0001,\n",
        "        'batch_size': 64,\n",
        "        'epochs': 30,\n",
        "        'validation_split': 0.1\n",
        "    }\n",
        "    best_model, best_history = train_model(x_train, y_train, args=args)\n",
        "      \n",
        "    return best_model, best_history\n"
      ],
      "execution_count": null,
      "outputs": []
    },
    {
      "cell_type": "markdown",
      "metadata": {
        "id": "o7zqIajggTlI"
      },
      "source": [
        "Run CNN"
      ]
    },
    {
      "cell_type": "code",
      "metadata": {
        "colab": {
          "base_uri": "https://localhost:8080/",
          "height": 1000
        },
        "id": "Q0JrqUCugVUV",
        "outputId": "c6482ce0-b820-48ed-8632-c2eec1b6dade"
      },
      "source": [
        "# RUN CNN\n",
        "# CNN (CCY)\n",
        "xtrain, xtest, ytrain, ytest = processData()\n",
        "xtest = xtest.reshape(-1, 200, 200, 1)\n",
        "model, history = train_and_select_model_cnn(xtrain, ytrain)\n",
        "loss_test, acc_test = model.evaluate(xtest, ytest)\n",
        "plot_history(history)"
      ],
      "execution_count": null,
      "outputs": [
        {
          "output_type": "stream",
          "text": [
            "  2% (30 of 1178) |                      | Elapsed Time: 0:00:00 ETA:   0:00:06"
          ],
          "name": "stderr"
        },
        {
          "output_type": "stream",
          "text": [
            "loading non-COVID\n"
          ],
          "name": "stdout"
        },
        {
          "output_type": "stream",
          "text": [
            "100% (1178 of 1178) |####################| Elapsed Time: 0:00:06 Time:  0:00:06\n",
            "  2% (31 of 1212) |                      | Elapsed Time: 0:00:00 ETA:   0:00:05"
          ],
          "name": "stderr"
        },
        {
          "output_type": "stream",
          "text": [
            "loading COVID\n"
          ],
          "name": "stdout"
        },
        {
          "output_type": "stream",
          "text": [
            "100% (1212 of 1212) |####################| Elapsed Time: 0:00:05 Time:  0:00:05\n",
            " 57% (29 of 50) |#############           | Elapsed Time: 0:00:00 ETA:   0:00:00"
          ],
          "name": "stderr"
        },
        {
          "output_type": "stream",
          "text": [
            "loading finished\n",
            "\n",
            "loading COVID\n"
          ],
          "name": "stdout"
        },
        {
          "output_type": "stream",
          "text": [
            "100% (50 of 50) |########################| Elapsed Time: 0:00:00 Time:  0:00:00\n",
            " 64% (33 of 51) |###############         | Elapsed Time: 0:00:00 ETA:   0:00:00"
          ],
          "name": "stderr"
        },
        {
          "output_type": "stream",
          "text": [
            "loading non-COVID\n"
          ],
          "name": "stdout"
        },
        {
          "output_type": "stream",
          "text": [
            "100% (51 of 51) |########################| Elapsed Time: 0:00:00 Time:  0:00:00\n"
          ],
          "name": "stderr"
        },
        {
          "output_type": "stream",
          "text": [
            "loading finished\n",
            "\n",
            "Model: \"sequential_4\"\n",
            "_________________________________________________________________\n",
            "Layer (type)                 Output Shape              Param #   \n",
            "=================================================================\n",
            "conv2d_4 (Conv2D)            (None, 198, 198, 30)      300       \n",
            "_________________________________________________________________\n",
            "max_pooling2d_4 (MaxPooling2 (None, 99, 99, 30)        0         \n",
            "_________________________________________________________________\n",
            "conv2d_5 (Conv2D)            (None, 97, 97, 60)        16260     \n",
            "_________________________________________________________________\n",
            "max_pooling2d_5 (MaxPooling2 (None, 48, 48, 60)        0         \n",
            "_________________________________________________________________\n",
            "flatten_4 (Flatten)          (None, 138240)            0         \n",
            "_________________________________________________________________\n",
            "dense_6 (Dense)              (None, 1)                 138241    \n",
            "=================================================================\n",
            "Total params: 154,801\n",
            "Trainable params: 154,801\n",
            "Non-trainable params: 0\n",
            "_________________________________________________________________\n",
            "Epoch 1/30\n",
            " 2/34 [>.............................] - ETA: 1s - loss: 466.2747 - accuracy: 0.4453WARNING:tensorflow:Callbacks method `on_train_batch_end` is slow compared to the batch time (batch time: 0.0239s vs `on_train_batch_end` time: 0.0424s). Check your callbacks.\n",
            "34/34 [==============================] - 2s 58ms/step - loss: 84.3558 - accuracy: 0.5397 - val_loss: 0.6982 - val_accuracy: 0.1381\n",
            "Epoch 2/30\n",
            "34/34 [==============================] - 2s 53ms/step - loss: 0.6544 - accuracy: 0.6341 - val_loss: 0.7177 - val_accuracy: 0.4812\n",
            "Epoch 3/30\n",
            "34/34 [==============================] - 2s 54ms/step - loss: 0.4421 - accuracy: 0.7940 - val_loss: 0.6334 - val_accuracy: 0.7238\n",
            "Epoch 4/30\n",
            "34/34 [==============================] - 2s 54ms/step - loss: 0.2981 - accuracy: 0.8754 - val_loss: 0.7017 - val_accuracy: 0.7364\n",
            "Epoch 5/30\n",
            "34/34 [==============================] - 2s 54ms/step - loss: 0.2354 - accuracy: 0.8973 - val_loss: 0.6499 - val_accuracy: 0.7490\n",
            "Epoch 6/30\n",
            "34/34 [==============================] - 2s 54ms/step - loss: 0.1883 - accuracy: 0.9177 - val_loss: 0.8876 - val_accuracy: 0.6527\n",
            "Epoch 7/30\n",
            "34/34 [==============================] - 2s 54ms/step - loss: 0.1003 - accuracy: 0.9637 - val_loss: 1.0450 - val_accuracy: 0.6695\n",
            "Epoch 8/30\n",
            "34/34 [==============================] - 2s 54ms/step - loss: 0.0595 - accuracy: 0.9819 - val_loss: 0.9923 - val_accuracy: 0.6862\n",
            "Epoch 9/30\n",
            "34/34 [==============================] - 2s 54ms/step - loss: 0.0380 - accuracy: 0.9902 - val_loss: 1.5265 - val_accuracy: 0.5649\n",
            "Epoch 10/30\n",
            "34/34 [==============================] - 2s 54ms/step - loss: 0.0630 - accuracy: 0.9781 - val_loss: 1.4090 - val_accuracy: 0.6527\n",
            "Epoch 11/30\n",
            "34/34 [==============================] - 2s 54ms/step - loss: 0.0348 - accuracy: 0.9898 - val_loss: 0.9729 - val_accuracy: 0.7448\n",
            "Epoch 12/30\n",
            "34/34 [==============================] - 2s 54ms/step - loss: 0.0147 - accuracy: 0.9967 - val_loss: 0.8820 - val_accuracy: 0.7866\n",
            "Epoch 13/30\n",
            "34/34 [==============================] - 2s 54ms/step - loss: 0.0204 - accuracy: 0.9954 - val_loss: 1.6936 - val_accuracy: 0.6151\n",
            "Epoch 14/30\n",
            "34/34 [==============================] - 2s 54ms/step - loss: 0.0113 - accuracy: 0.9981 - val_loss: 1.7184 - val_accuracy: 0.6695\n",
            "Epoch 15/30\n",
            "34/34 [==============================] - 2s 54ms/step - loss: 0.0050 - accuracy: 1.0000 - val_loss: 1.3007 - val_accuracy: 0.7155\n",
            "Epoch 16/30\n",
            "34/34 [==============================] - 2s 54ms/step - loss: 0.0026 - accuracy: 1.0000 - val_loss: 1.5403 - val_accuracy: 0.6946\n",
            "Epoch 17/30\n",
            "34/34 [==============================] - 2s 54ms/step - loss: 0.0013 - accuracy: 1.0000 - val_loss: 1.5416 - val_accuracy: 0.6862\n",
            "Epoch 18/30\n",
            "34/34 [==============================] - 2s 54ms/step - loss: 0.0010 - accuracy: 1.0000 - val_loss: 1.5950 - val_accuracy: 0.6904\n",
            "Epoch 19/30\n",
            "34/34 [==============================] - 2s 54ms/step - loss: 8.5902e-04 - accuracy: 1.0000 - val_loss: 1.5320 - val_accuracy: 0.7071\n",
            "Epoch 20/30\n",
            "34/34 [==============================] - 2s 54ms/step - loss: 7.5712e-04 - accuracy: 1.0000 - val_loss: 1.5655 - val_accuracy: 0.7071\n",
            "Epoch 21/30\n",
            "34/34 [==============================] - 2s 53ms/step - loss: 6.5645e-04 - accuracy: 1.0000 - val_loss: 1.5649 - val_accuracy: 0.7113\n",
            "Epoch 22/30\n",
            "34/34 [==============================] - 2s 54ms/step - loss: 5.9177e-04 - accuracy: 1.0000 - val_loss: 1.5871 - val_accuracy: 0.7113\n",
            "Epoch 23/30\n",
            "34/34 [==============================] - 2s 54ms/step - loss: 5.3059e-04 - accuracy: 1.0000 - val_loss: 1.6277 - val_accuracy: 0.7029\n",
            "Epoch 24/30\n",
            "34/34 [==============================] - 2s 54ms/step - loss: 4.8113e-04 - accuracy: 1.0000 - val_loss: 1.6344 - val_accuracy: 0.7071\n",
            "Epoch 25/30\n",
            "34/34 [==============================] - 2s 53ms/step - loss: 4.4184e-04 - accuracy: 1.0000 - val_loss: 1.6152 - val_accuracy: 0.7155\n",
            "Epoch 26/30\n",
            "34/34 [==============================] - 2s 53ms/step - loss: 4.0353e-04 - accuracy: 1.0000 - val_loss: 1.6474 - val_accuracy: 0.7197\n",
            "Epoch 27/30\n",
            "34/34 [==============================] - 2s 54ms/step - loss: 3.7396e-04 - accuracy: 1.0000 - val_loss: 1.6941 - val_accuracy: 0.7029\n",
            "Epoch 28/30\n",
            "34/34 [==============================] - 2s 54ms/step - loss: 3.4777e-04 - accuracy: 1.0000 - val_loss: 1.6564 - val_accuracy: 0.7197\n",
            "Epoch 29/30\n",
            "34/34 [==============================] - 2s 54ms/step - loss: 3.2564e-04 - accuracy: 1.0000 - val_loss: 1.6692 - val_accuracy: 0.7197\n",
            "Epoch 30/30\n",
            "34/34 [==============================] - 2s 53ms/step - loss: 3.0187e-04 - accuracy: 1.0000 - val_loss: 1.6318 - val_accuracy: 0.7280\n",
            "4/4 [==============================] - 0s 6ms/step - loss: 1.5374 - accuracy: 0.8020\n",
            "[84.35582733154297, 0.6543760895729065, 0.4420603811740875, 0.29807397723197937, 0.23543328046798706, 0.1883259117603302, 0.100255586206913, 0.059528253972530365, 0.03796602785587311, 0.0630214512348175, 0.0348210483789444, 0.014656816609203815, 0.020410081371665, 0.011324035003781319, 0.00504297623410821, 0.0025791621301323175, 0.0013448644895106554, 0.0010396242141723633, 0.0008590180659666657, 0.0007571208407171071, 0.0006564492941834033, 0.0005917682428844273, 0.0005305921658873558, 0.0004811264807358384, 0.000441838928963989, 0.00040353223448619246, 0.00037396009429357946, 0.0003477738064248115, 0.0003256378404330462, 0.00030187267111614347]\n"
          ],
          "name": "stdout"
        },
        {
          "output_type": "display_data",
          "data": {
            "image/png": "[encoded data removed]",
            "text/plain": [
              "<Figure size 432x288 with 1 Axes>"
            ]
          },
          "metadata": {
            "tags": [],
            "needs_background": "light"
          }
        },
        {
          "output_type": "display_data",
          "data": {
            "image/png": "[encoded data removed]",
            "text/plain": [
              "<Figure size 432x288 with 1 Axes>"
            ]
          },
          "metadata": {
            "tags": [],
            "needs_background": "light"
          }
        }
      ]
    },
    {
      "cell_type": "markdown",
      "metadata": {
        "id": "5ji5mF8B2WFP"
      },
      "source": [
        "**ResNet MODEL**"
      ]
    },
    {
      "cell_type": "code",
      "metadata": {
        "id": "nWoSCacv2g5f"
      },
      "source": [
        "def shuff(a, b):\n",
        "    indices = np.arange(a.shape[0])\n",
        "    np.random.shuffle(indices)\n",
        "    return a[indices], np.array(b)[indices]"
      ],
      "execution_count": null,
      "outputs": []
    },
    {
      "cell_type": "code",
      "metadata": {
        "id": "fkrwTsgX2x7k"
      },
      "source": [
        "def create_resnet50(x, y, args = None):\n",
        "  x, y = shuff(x, y)\n",
        "  resnet_model = keras.applications.ResNet50(include_top=False, weights = 'imagenet', input_shape = (200, 200, 3))\n",
        "  Model = keras.models.Sequential()\n",
        "  Model.add(resnet_model)\n",
        "  Model.add(Flatten())\n",
        "  Model.add(keras.layers.BatchNormalization())\n",
        "  Model.add(keras.layers.Dense(256, activation= 'relu'))\n",
        "  Model.add(keras.layers.Dropout(0.5))\n",
        "  Model.add(keras.layers.BatchNormalization())\n",
        "  Model.add(keras.layers.Dense(64, activation = 'relu'))\n",
        "  Model.add(keras.layers.Dropout(0.3))\n",
        "  Model.add(keras.layers.BatchNormalization())\n",
        "  Model.add(keras.layers.Dense(1, activation='sigmoid'))\n",
        "\n",
        "  Model.compile(optimizer=args['optimization'],loss=args['loss'],metrics=['accuracy'])\n",
        "  Model.summary()\n",
        "  history = Model.fit(x, y, batch_size=args['batch_size'],validation_data = (x_test_re_stack, y_test_re) , epochs=args['epoch'], verbose=1,\n",
        "                      callbacks=[checkpoint])\n",
        "\n",
        "  return history"
      ],
      "execution_count": null,
      "outputs": []
    },
    {
      "cell_type": "code",
      "metadata": {
        "id": "Covla0O-24Ip"
      },
      "source": [
        "def create_resnet101(x, y, args = None):\n",
        "\n",
        "  x, y = shuff(x, y)\n",
        "  resnet_model = keras.applications.ResNet101(include_top=False, weights = 'imagenet', input_shape = (200, 200, 3))\n",
        "  Model = keras.models.Sequential()\n",
        "  Model.add(resnet_model)\n",
        "  Model.add(Flatten())\n",
        "  Model.add(keras.layers.BatchNormalization())\n",
        "  Model.add(keras.layers.Dense(512, activation= 'relu'))\n",
        "  Model.add(keras.layers.Dropout(0.5))\n",
        "  Model.add(keras.layers.BatchNormalization())\n",
        "  Model.add(keras.layers.Dense(64, activation = 'relu'))\n",
        "  Model.add(keras.layers.Dropout(0.5))\n",
        "  Model.add(keras.layers.BatchNormalization())\n",
        "  Model.add(keras.layers.Dense(1, activation='sigmoid'))\n",
        "\n",
        "  Model.compile(optimizer=args['optimization'],loss=args['loss'],metrics=['accuracy'])\n",
        "  Model.summary()\n",
        "  history = Model.fit(x, y, batch_size=args['batch_size'],validation_data = (x_test_re_stack, y_test_re) , epochs=args['epoch'], verbose=1,\n",
        "                      callbacks=[checkpoint])\n",
        "\n",
        "  return history"
      ],
      "execution_count": null,
      "outputs": []
    },
    {
      "cell_type": "code",
      "metadata": {
        "id": "oqM5OQg026gF"
      },
      "source": [
        "def create_resnet152(x, y, args = None):\n",
        "\n",
        "  x, y = shuff(x, y)\n",
        "  resnet_model = keras.applications.ResNet152(include_top=False, weights = 'imagenet', input_shape = (200, 200, 3))\n",
        "  Model = keras.models.Sequential()\n",
        "  Model.add(resnet_model)\n",
        "  Model.add(Flatten())\n",
        "  Model.add(keras.layers.BatchNormalization())\n",
        "  Model.add(keras.layers.Dense(512, activation= 'relu'))\n",
        "  Model.add(keras.layers.Dropout(0.5))\n",
        "  Model.add(keras.layers.BatchNormalization())\n",
        "  Model.add(keras.layers.Dense(64, activation = 'relu'))\n",
        "  Model.add(keras.layers.Dropout(0.5))\n",
        "  Model.add(keras.layers.BatchNormalization())\n",
        "  Model.add(keras.layers.Dense(1, activation='sigmoid'))\n",
        "\n",
        "  Model.compile(optimizer=args['optimization'],loss=args['loss'],metrics=['accuracy'])\n",
        "  Model.summary()\n",
        "  history = Model.fit(x, y, batch_size=args['batch_size'],validation_data = (x_test_re_stack, y_test_re) , epochs=args['epoch'], verbose=1,\n",
        "                      callbacks=[checkpoint])\n",
        "\n",
        "  return history"
      ],
      "execution_count": null,
      "outputs": []
    },
    {
      "cell_type": "code",
      "metadata": {
        "id": "YA3fH_Az-pTa"
      },
      "source": [
        "def plotResNetAcc(hist):\n",
        "  plt.plot(hist.history['accuracy'])\n",
        "  plt.plot(hist.history['val_accuracy'])\n",
        "  plt.title('model accuracy')\n",
        "  plt.ylabel('accuracy')\n",
        "  plt.xlabel('epoch')\n",
        "  plt.legend(['train', 'test'], loc='upper left')\n",
        "  plt.show()\n",
        "\n",
        "def plotResNetLoss(hist):\n",
        "  plt.plot(hist.history['loss'])\n",
        "  plt.plot(hist.history['val_loss'])\n",
        "  plt.title('model loss')\n",
        "  plt.ylabel('loss')\n",
        "  plt.xlabel('epoch')\n",
        "  plt.legend(['train', 'test'], loc='upper left')\n",
        "  plt.show()"
      ],
      "execution_count": null,
      "outputs": []
    },
    {
      "cell_type": "markdown",
      "metadata": {
        "id": "jUYqGTqSgdxu"
      },
      "source": [
        "Run ResNet"
      ]
    },
    {
      "cell_type": "code",
      "metadata": {
        "colab": {
          "base_uri": "https://localhost:8080/"
        },
        "id": "mIRI5X1ogfx9",
        "outputId": "e831df4f-4c84-47ab-ed4b-57a8cd8512a1"
      },
      "source": [
        "# RUN ResNet\n",
        "# ResNet (WYW)\n",
        "xtrain, xtest, ytrain, ytest = processData()\n",
        "x_train_re = xtrain.reshape(-1, 200, 200)\n",
        "y_train_re = ytrain.reshape(len(ytrain), 1)\n",
        "\n",
        "x_test_re = xtest.reshape(-1, 200, 200)\n",
        "y_test_re = ytest.reshape(len(ytest),1)\n",
        "\n",
        "x_train_re_stack = np.stack((x_train_re,)*3, axis=-1)\n",
        "x_test_re_stack = np.stack((x_test_re,)*3, axis=-1)\n",
        "\n",
        "checkpoint_path = \"training_1/cp2.ckpt\"\n",
        "checkpoint_dir = os.path.dirname(checkpoint_path)\n",
        "checkpoint = ModelCheckpoint(filepath=checkpoint_path, verbose=1, monitor='val_accuracy', save_best_only=True, save_weights_only=True)\n",
        "\n",
        "args = {\n",
        "    'optimization': keras.optimizers.RMSprop(learning_rate=2e-5, momentum=0.9),\n",
        "    'loss': 'binary_crossentropy',\n",
        "    'epoch': 30,\n",
        "    'batch_size': 32,\n",
        "    'validation_split': 0.3\n",
        "}\n",
        "\n",
        "history = create_resnet152(x_train_re_stack, y_train_re, args=args)\n"
      ],
      "execution_count": null,
      "outputs": [
        {
          "output_type": "stream",
          "text": [
            "  1% (14 of 1178) |                      | Elapsed Time: 0:00:00 ETA:   0:00:08"
          ],
          "name": "stderr"
        },
        {
          "output_type": "stream",
          "text": [
            "loading non-COVID\n"
          ],
          "name": "stdout"
        },
        {
          "output_type": "stream",
          "text": [
            "100% (1178 of 1178) |####################| Elapsed Time: 0:00:06 Time:  0:00:06\n",
            "  2% (31 of 1212) |                      | Elapsed Time: 0:00:00 ETA:   0:00:06"
          ],
          "name": "stderr"
        },
        {
          "output_type": "stream",
          "text": [
            "loading COVID\n"
          ],
          "name": "stdout"
        },
        {
          "output_type": "stream",
          "text": [
            "100% (1212 of 1212) |####################| Elapsed Time: 0:00:05 Time:  0:00:05\n",
            " 39% (20 of 51) |#########               | Elapsed Time: 0:00:00 ETA:   0:00:00"
          ],
          "name": "stderr"
        },
        {
          "output_type": "stream",
          "text": [
            "loading finished\n",
            "\n",
            "loading non-COVID\n"
          ],
          "name": "stdout"
        },
        {
          "output_type": "stream",
          "text": [
            "100% (51 of 51) |########################| Elapsed Time: 0:00:00 Time:  0:00:00\n",
            " 56% (28 of 50) |#############           | Elapsed Time: 0:00:00 ETA:   0:00:00"
          ],
          "name": "stderr"
        },
        {
          "output_type": "stream",
          "text": [
            "loading COVID\n"
          ],
          "name": "stdout"
        },
        {
          "output_type": "stream",
          "text": [
            "100% (50 of 50) |########################| Elapsed Time: 0:00:00 Time:  0:00:00\n"
          ],
          "name": "stderr"
        },
        {
          "output_type": "stream",
          "text": [
            "loading finished\n",
            "\n",
            "Model: \"sequential_1\"\n",
            "_________________________________________________________________\n",
            "Layer (type)                 Output Shape              Param #   \n",
            "=================================================================\n",
            "resnet152 (Functional)       (None, 7, 7, 2048)        58370944  \n",
            "_________________________________________________________________\n",
            "flatten_1 (Flatten)          (None, 100352)            0         \n",
            "_________________________________________________________________\n",
            "batch_normalization_3 (Batch (None, 100352)            401408    \n",
            "_________________________________________________________________\n",
            "dense_3 (Dense)              (None, 512)               51380736  \n",
            "_________________________________________________________________\n",
            "dropout_2 (Dropout)          (None, 512)               0         \n",
            "_________________________________________________________________\n",
            "batch_normalization_4 (Batch (None, 512)               2048      \n",
            "_________________________________________________________________\n",
            "dense_4 (Dense)              (None, 64)                32832     \n",
            "_________________________________________________________________\n",
            "dropout_3 (Dropout)          (None, 64)                0         \n",
            "_________________________________________________________________\n",
            "batch_normalization_5 (Batch (None, 64)                256       \n",
            "_________________________________________________________________\n",
            "dense_5 (Dense)              (None, 1)                 65        \n",
            "=================================================================\n",
            "Total params: 110,188,289\n",
            "Trainable params: 109,835,009\n",
            "Non-trainable params: 353,280\n",
            "_________________________________________________________________\n",
            "Epoch 1/30\n",
            "75/75 [==============================] - ETA: 0s - loss: 0.3212 - accuracy: 0.8653\n",
            "Epoch 00001: val_accuracy improved from -inf to 0.59406, saving model to training_1/cp2.ckpt\n",
            "75/75 [==============================] - 63s 833ms/step - loss: 0.3212 - accuracy: 0.8653 - val_loss: 3.8497 - val_accuracy: 0.5941\n",
            "Epoch 2/30\n",
            "75/75 [==============================] - ETA: 0s - loss: 0.1588 - accuracy: 0.9490\n",
            "Epoch 00002: val_accuracy improved from 0.59406 to 0.61386, saving model to training_1/cp2.ckpt\n",
            "75/75 [==============================] - 60s 802ms/step - loss: 0.1588 - accuracy: 0.9490 - val_loss: 3.1502 - val_accuracy: 0.6139\n",
            "Epoch 3/30\n",
            "75/75 [==============================] - ETA: 0s - loss: 0.0966 - accuracy: 0.9749\n",
            "Epoch 00003: val_accuracy improved from 0.61386 to 0.78218, saving model to training_1/cp2.ckpt\n",
            "75/75 [==============================] - 60s 794ms/step - loss: 0.0966 - accuracy: 0.9749 - val_loss: 1.2812 - val_accuracy: 0.7822\n",
            "Epoch 4/30\n",
            "75/75 [==============================] - ETA: 0s - loss: 0.0861 - accuracy: 0.9749\n",
            "Epoch 00004: val_accuracy improved from 0.78218 to 0.88119, saving model to training_1/cp2.ckpt\n",
            "75/75 [==============================] - 60s 800ms/step - loss: 0.0861 - accuracy: 0.9749 - val_loss: 0.4008 - val_accuracy: 0.8812\n",
            "Epoch 5/30\n",
            "75/75 [==============================] - ETA: 0s - loss: 0.0663 - accuracy: 0.9795\n",
            "Epoch 00005: val_accuracy improved from 0.88119 to 0.90099, saving model to training_1/cp2.ckpt\n",
            "75/75 [==============================] - 60s 796ms/step - loss: 0.0663 - accuracy: 0.9795 - val_loss: 0.3642 - val_accuracy: 0.9010\n",
            "Epoch 6/30\n",
            "75/75 [==============================] - ETA: 0s - loss: 0.0426 - accuracy: 0.9908\n",
            "Epoch 00006: val_accuracy improved from 0.90099 to 0.93069, saving model to training_1/cp2.ckpt\n",
            "75/75 [==============================] - 60s 796ms/step - loss: 0.0426 - accuracy: 0.9908 - val_loss: 0.2130 - val_accuracy: 0.9307\n",
            "Epoch 7/30\n",
            "75/75 [==============================] - ETA: 0s - loss: 0.0445 - accuracy: 0.9916\n",
            "Epoch 00007: val_accuracy did not improve from 0.93069\n",
            "75/75 [==============================] - 54s 716ms/step - loss: 0.0445 - accuracy: 0.9916 - val_loss: 0.6398 - val_accuracy: 0.8416\n",
            "Epoch 8/30\n",
            "75/75 [==============================] - ETA: 0s - loss: 0.0422 - accuracy: 0.9887\n",
            "Epoch 00008: val_accuracy did not improve from 0.93069\n",
            "75/75 [==============================] - 53s 712ms/step - loss: 0.0422 - accuracy: 0.9887 - val_loss: 1.3600 - val_accuracy: 0.7327\n",
            "Epoch 9/30\n",
            "75/75 [==============================] - ETA: 0s - loss: 0.0452 - accuracy: 0.9887\n",
            "Epoch 00009: val_accuracy did not improve from 0.93069\n",
            "75/75 [==============================] - 54s 715ms/step - loss: 0.0452 - accuracy: 0.9887 - val_loss: 0.5275 - val_accuracy: 0.8218\n",
            "Epoch 10/30\n",
            "75/75 [==============================] - ETA: 0s - loss: 0.0318 - accuracy: 0.9908\n",
            "Epoch 00010: val_accuracy did not improve from 0.93069\n",
            "75/75 [==============================] - 54s 713ms/step - loss: 0.0318 - accuracy: 0.9908 - val_loss: 0.3315 - val_accuracy: 0.9010\n",
            "Epoch 11/30\n",
            "75/75 [==============================] - ETA: 0s - loss: 0.0308 - accuracy: 0.9921\n",
            "Epoch 00011: val_accuracy did not improve from 0.93069\n",
            "75/75 [==============================] - 53s 712ms/step - loss: 0.0308 - accuracy: 0.9921 - val_loss: 2.0102 - val_accuracy: 0.6634\n",
            "Epoch 12/30\n",
            "75/75 [==============================] - ETA: 0s - loss: 0.0300 - accuracy: 0.9916\n",
            "Epoch 00012: val_accuracy did not improve from 0.93069\n",
            "75/75 [==============================] - 53s 713ms/step - loss: 0.0300 - accuracy: 0.9916 - val_loss: 0.3587 - val_accuracy: 0.8713\n",
            "Epoch 13/30\n",
            "75/75 [==============================] - ETA: 0s - loss: 0.0548 - accuracy: 0.9841\n",
            "Epoch 00013: val_accuracy did not improve from 0.93069\n",
            "75/75 [==============================] - 53s 712ms/step - loss: 0.0548 - accuracy: 0.9841 - val_loss: 0.9190 - val_accuracy: 0.7921\n",
            "Epoch 14/30\n",
            "75/75 [==============================] - ETA: 0s - loss: 0.0297 - accuracy: 0.9916\n",
            "Epoch 00014: val_accuracy did not improve from 0.93069\n",
            "75/75 [==============================] - 53s 712ms/step - loss: 0.0297 - accuracy: 0.9916 - val_loss: 0.2803 - val_accuracy: 0.9010\n",
            "Epoch 15/30\n",
            "75/75 [==============================] - ETA: 0s - loss: 0.0263 - accuracy: 0.9925\n",
            "Epoch 00015: val_accuracy improved from 0.93069 to 0.97030, saving model to training_1/cp2.ckpt\n",
            "75/75 [==============================] - 59s 791ms/step - loss: 0.0263 - accuracy: 0.9925 - val_loss: 0.0765 - val_accuracy: 0.9703\n",
            "Epoch 16/30\n",
            "75/75 [==============================] - ETA: 0s - loss: 0.0209 - accuracy: 0.9946\n",
            "Epoch 00016: val_accuracy did not improve from 0.97030\n",
            "75/75 [==============================] - 54s 716ms/step - loss: 0.0209 - accuracy: 0.9946 - val_loss: 0.8507 - val_accuracy: 0.7723\n",
            "Epoch 17/30\n",
            "75/75 [==============================] - ETA: 0s - loss: 0.0180 - accuracy: 0.9954\n",
            "Epoch 00017: val_accuracy did not improve from 0.97030\n",
            "75/75 [==============================] - 53s 711ms/step - loss: 0.0180 - accuracy: 0.9954 - val_loss: 1.1985 - val_accuracy: 0.7228\n",
            "Epoch 18/30\n",
            "75/75 [==============================] - ETA: 0s - loss: 0.0145 - accuracy: 0.9962\n",
            "Epoch 00018: val_accuracy did not improve from 0.97030\n",
            "75/75 [==============================] - 53s 713ms/step - loss: 0.0145 - accuracy: 0.9962 - val_loss: 0.7871 - val_accuracy: 0.8317\n",
            "Epoch 19/30\n",
            "75/75 [==============================] - ETA: 0s - loss: 0.0216 - accuracy: 0.9937\n",
            "Epoch 00019: val_accuracy did not improve from 0.97030\n",
            "75/75 [==============================] - 53s 711ms/step - loss: 0.0216 - accuracy: 0.9937 - val_loss: 1.2683 - val_accuracy: 0.6337\n",
            "Epoch 20/30\n",
            "75/75 [==============================] - ETA: 0s - loss: 0.0338 - accuracy: 0.9925\n",
            "Epoch 00020: val_accuracy did not improve from 0.97030\n",
            "75/75 [==============================] - 54s 716ms/step - loss: 0.0338 - accuracy: 0.9925 - val_loss: 0.8521 - val_accuracy: 0.8119\n",
            "Epoch 21/30\n",
            "75/75 [==============================] - ETA: 0s - loss: 0.0075 - accuracy: 0.9992\n",
            "Epoch 00021: val_accuracy did not improve from 0.97030\n",
            "75/75 [==============================] - 54s 714ms/step - loss: 0.0075 - accuracy: 0.9992 - val_loss: 1.4461 - val_accuracy: 0.7822\n",
            "Epoch 22/30\n",
            "75/75 [==============================] - ETA: 0s - loss: 0.0094 - accuracy: 0.9975\n",
            "Epoch 00022: val_accuracy did not improve from 0.97030\n",
            "75/75 [==============================] - 53s 713ms/step - loss: 0.0094 - accuracy: 0.9975 - val_loss: 1.0693 - val_accuracy: 0.8020\n",
            "Epoch 23/30\n",
            "75/75 [==============================] - ETA: 0s - loss: 0.0236 - accuracy: 0.9912\n",
            "Epoch 00023: val_accuracy did not improve from 0.97030\n",
            "75/75 [==============================] - 53s 713ms/step - loss: 0.0236 - accuracy: 0.9912 - val_loss: 0.3993 - val_accuracy: 0.9010\n",
            "Epoch 24/30\n",
            "75/75 [==============================] - ETA: 0s - loss: 0.0224 - accuracy: 0.9946\n",
            "Epoch 00024: val_accuracy did not improve from 0.97030\n",
            "75/75 [==============================] - 53s 712ms/step - loss: 0.0224 - accuracy: 0.9946 - val_loss: 0.3572 - val_accuracy: 0.8812\n",
            "Epoch 25/30\n",
            "75/75 [==============================] - ETA: 0s - loss: 0.0142 - accuracy: 0.9962\n",
            "Epoch 00025: val_accuracy did not improve from 0.97030\n",
            "75/75 [==============================] - 53s 711ms/step - loss: 0.0142 - accuracy: 0.9962 - val_loss: 0.3903 - val_accuracy: 0.8911\n",
            "Epoch 26/30\n",
            "75/75 [==============================] - ETA: 0s - loss: 0.0239 - accuracy: 0.9921\n",
            "Epoch 00026: val_accuracy did not improve from 0.97030\n",
            "75/75 [==============================] - 53s 712ms/step - loss: 0.0239 - accuracy: 0.9921 - val_loss: 2.4826 - val_accuracy: 0.6535\n",
            "Epoch 27/30\n",
            "75/75 [==============================] - ETA: 0s - loss: 0.0195 - accuracy: 0.9950\n",
            "Epoch 00027: val_accuracy did not improve from 0.97030\n",
            "75/75 [==============================] - 53s 712ms/step - loss: 0.0195 - accuracy: 0.9950 - val_loss: 0.4325 - val_accuracy: 0.8614\n",
            "Epoch 28/30\n",
            "75/75 [==============================] - ETA: 0s - loss: 0.0212 - accuracy: 0.9937\n",
            "Epoch 00028: val_accuracy did not improve from 0.97030\n",
            "75/75 [==============================] - 53s 713ms/step - loss: 0.0212 - accuracy: 0.9937 - val_loss: 0.6003 - val_accuracy: 0.8515\n",
            "Epoch 29/30\n",
            "75/75 [==============================] - ETA: 0s - loss: 0.0108 - accuracy: 0.9967\n",
            "Epoch 00029: val_accuracy did not improve from 0.97030\n",
            "75/75 [==============================] - 53s 712ms/step - loss: 0.0108 - accuracy: 0.9967 - val_loss: 2.2861 - val_accuracy: 0.6337\n",
            "Epoch 30/30\n",
            "75/75 [==============================] - ETA: 0s - loss: 0.0168 - accuracy: 0.9954\n",
            "Epoch 00030: val_accuracy did not improve from 0.97030\n",
            "75/75 [==============================] - 53s 713ms/step - loss: 0.0168 - accuracy: 0.9954 - val_loss: 2.4644 - val_accuracy: 0.6238\n"
          ],
          "name": "stdout"
        }
      ]
    },
    {
      "cell_type": "code",
      "metadata": {
        "id": "Cxj3UatJgvc9",
        "colab": {
          "base_uri": "https://localhost:8080/",
          "height": 607
        },
        "outputId": "a186cf57-34cb-4c90-e940-3262ef289470"
      },
      "source": [
        "plotResNetAcc(history)\n",
        "plotResNetLoss(history)\n",
        "history.model.load_weights(checkpoint_path)\n",
        "print(history.model.evaluate(x_test_re_stack, y_test_re))"
      ],
      "execution_count": null,
      "outputs": [
        {
          "output_type": "display_data",
          "data": {
            "image/png": "[encoded data removed]",
            "text/plain": [
              "<Figure size 432x288 with 1 Axes>"
            ]
          },
          "metadata": {
            "tags": [],
            "needs_background": "light"
          }
        },
        {
          "output_type": "display_data",
          "data": {
            "image/png": "[encoded data removed]",
            "text/plain": [
              "<Figure size 432x288 with 1 Axes>"
            ]
          },
          "metadata": {
            "tags": [],
            "needs_background": "light"
          }
        },
        {
          "output_type": "stream",
          "text": [
            "4/4 [==============================] - 0s 114ms/step - loss: 0.0765 - accuracy: 0.9703\n",
            "[0.07652979344129562, 0.9702970385551453]\n"
          ],
          "name": "stdout"
        }
      ]
    },
    {
      "cell_type": "markdown",
      "metadata": {
        "id": "Dm4zUSQVr8Ar"
      },
      "source": [
        "**KNN MODEL**"
      ]
    },
    {
      "cell_type": "code",
      "metadata": {
        "id": "6eXw9caOr9-1"
      },
      "source": [
        "def KNN():\n",
        "  k_range = range(1,9)\n",
        "  scores = {}\n",
        "  scores_list = []\n",
        "  for k in k_range:\n",
        "    knn = KNeighborsClassifier(n_neighbors=k)\n",
        "    knn.fit(X_train,y_train)\n",
        "    y_pred = knn.predict(X_test)\n",
        "    scores[k] = metrics.accuracy_score(y_test, y_pred)\n",
        "    scores_list.append(metrics.accuracy_score(y_test, y_pred))\n",
        "  return scores_list\n"
      ],
      "execution_count": null,
      "outputs": []
    },
    {
      "cell_type": "markdown",
      "metadata": {
        "id": "N-v9hcNJg1SW"
      },
      "source": [
        "Run KNN"
      ]
    },
    {
      "cell_type": "code",
      "metadata": {
        "colab": {
          "base_uri": "https://localhost:8080/",
          "height": 515
        },
        "id": "Qj05t-Mjg2bf",
        "outputId": "c09e7947-5011-4015-8d3d-1d73be072bdb"
      },
      "source": [
        "# RUN KNN\n",
        "# KNN (CCY)\n",
        "X_train, X_test, y_train, y_test = processData()\n",
        "klist = [1,2,3,4,5,6,7,8]\n",
        "accuracy_list = KNN()\n",
        "print(accuracy_list)\n",
        "plt.bar(klist,accuracy_list)\n",
        "plt.title(\"Accuracy VS K value\")\n",
        "plt.show()"
      ],
      "execution_count": null,
      "outputs": [
        {
          "output_type": "stream",
          "text": [
            "  2% (30 of 1178) |                      | Elapsed Time: 0:00:00 ETA:   0:00:06"
          ],
          "name": "stderr"
        },
        {
          "output_type": "stream",
          "text": [
            "loading non-COVID\n"
          ],
          "name": "stdout"
        },
        {
          "output_type": "stream",
          "text": [
            "100% (1178 of 1178) |####################| Elapsed Time: 0:00:06 Time:  0:00:06\n",
            "  2% (31 of 1212) |                      | Elapsed Time: 0:00:00 ETA:   0:00:06"
          ],
          "name": "stderr"
        },
        {
          "output_type": "stream",
          "text": [
            "loading COVID\n"
          ],
          "name": "stdout"
        },
        {
          "output_type": "stream",
          "text": [
            "100% (1212 of 1212) |####################| Elapsed Time: 0:00:06 Time:  0:00:06\n",
            " 34% (17 of 50) |########                | Elapsed Time: 0:00:00 ETA:   0:00:00"
          ],
          "name": "stderr"
        },
        {
          "output_type": "stream",
          "text": [
            "loading finished\n",
            "\n",
            "loading COVID\n"
          ],
          "name": "stdout"
        },
        {
          "output_type": "stream",
          "text": [
            "100% (50 of 50) |########################| Elapsed Time: 0:00:00 Time:  0:00:00\n",
            " 62% (32 of 51) |###############         | Elapsed Time: 0:00:00 ETA:   0:00:00"
          ],
          "name": "stderr"
        },
        {
          "output_type": "stream",
          "text": [
            "loading non-COVID\n"
          ],
          "name": "stdout"
        },
        {
          "output_type": "stream",
          "text": [
            "100% (51 of 51) |########################| Elapsed Time: 0:00:00 Time:  0:00:00\n"
          ],
          "name": "stderr"
        },
        {
          "output_type": "stream",
          "text": [
            "loading finished\n",
            "\n",
            "[0.7326732673267327, 0.693069306930693, 0.7326732673267327, 0.6633663366336634, 0.6831683168316832, 0.6633663366336634, 0.7128712871287128, 0.6732673267326733]\n"
          ],
          "name": "stdout"
        },
        {
          "output_type": "display_data",
          "data": {
            "image/png": "[encoded data removed]",
            "text/plain": [
              "<Figure size 432x288 with 1 Axes>"
            ]
          },
          "metadata": {
            "tags": [],
            "needs_background": "light"
          }
        }
      ]
    },
    {
      "cell_type": "markdown",
      "metadata": {
        "id": "Rx57sYjIm2n9"
      },
      "source": [
        "**SVM MODEL**"
      ]
    },
    {
      "cell_type": "code",
      "metadata": {
        "id": "2o-_bBRqgcQY"
      },
      "source": [
        "def fold(x, y, i, nfolds):\n",
        "  sx, sy = sklearn.utils.shuffle(x,y)\n",
        "  ind = np.array_split(np.arange(sx.shape[0]),nfolds)[i]\n",
        "  x_vali, y_vali = sx[ind,:], sy[ind]\n",
        "  x_train, y_train = np.delete(sx,ind,0), np.delete(sy,ind)\n",
        "  return x_train, y_train, x_vali, y_vali\n"
      ],
      "execution_count": null,
      "outputs": []
    },
    {
      "cell_type": "code",
      "metadata": {
        "id": "oLHaF_GbhNOn"
      },
      "source": [
        "def train_select_model_svm(x_train, y_train, nfolds):\n",
        "  param_set = [{'kernel': 'poly', 'C': 0.5, 'degree': 7}]\n",
        "  best_params = {}\n",
        "  best_acc = 0\n",
        "  for p in param_set:\n",
        "    print('parameter:',p)\n",
        "    kernel, C, degree = p['kernel'], p['C'], p['degree']\n",
        "    accs, train_accs = [], []\n",
        "    for i in range(nfolds):\n",
        "      xtrain, ytrain, xvali, yvali = fold(x_train, y_train, i, nfolds)\n",
        "      clf = SVC(kernel=kernel, C=C, degree=degree, gamma='scale').fit(xtrain, ytrain)\n",
        "      train_acc = clf.score(xtrain, ytrain)\n",
        "      acc = clf.score(xvali, yvali)\n",
        "      train_accs.append(train_acc)\n",
        "      accs.append(acc)\n",
        "    accuracy = sum(accs)/len(accs)\n",
        "    train_accuracy = sum(train_accs)/len(train_accs)\n",
        "    print('training accuracy:',train_accuracy)\n",
        "    print('testing accuracy:',accuracy)\n",
        "    if accuracy > best_acc:\n",
        "      best_params, best_acc = p, accuracy\n",
        "      print('current best:', p, accuracy)\n",
        "    \n",
        "  best_score = best_acc\n",
        "  best_model = SVC(kernel=best_params['kernel'], C=best_params['C'], degree=best_params['degree'], gamma='scale').fit(x_train,y_train)\n",
        "\n",
        "  return best_model, best_score\n"
      ],
      "execution_count": null,
      "outputs": []
    },
    {
      "cell_type": "markdown",
      "metadata": {
        "id": "oSNRHJ5Jg6td"
      },
      "source": [
        "Run SVM"
      ]
    },
    {
      "cell_type": "code",
      "metadata": {
        "colab": {
          "base_uri": "https://localhost:8080/"
        },
        "id": "Bk7jIexmg8o-",
        "outputId": "e67f03cb-f3d2-4409-b524-cb5b94da635c"
      },
      "source": [
        "# RUN SVM\n",
        "# SVM (SYC)\n",
        "FOLD = 5\n",
        "\n",
        "xtrain, xtest, ytrain, ytest = processData()\n",
        "best_model, best_score = train_select_model_svm(xtrain, ytrain, FOLD)\n",
        "\n",
        "acc = best_model.score(xtest, ytest)\n",
        "print('SVM MODEL ACC:', acc)"
      ],
      "execution_count": null,
      "outputs": [
        {
          "output_type": "stream",
          "text": [
            "loading non-COVID\n"
          ],
          "name": "stdout"
        },
        {
          "output_type": "stream",
          "text": [
            "100% (1178 of 1178) |####################| Elapsed Time: 0:07:08 Time:  0:07:08\n",
            "N/A% (0 of 1212) |                       | Elapsed Time: 0:00:00 ETA:  --:--:--"
          ],
          "name": "stderr"
        },
        {
          "output_type": "stream",
          "text": [
            "loading COVID\n"
          ],
          "name": "stdout"
        },
        {
          "output_type": "stream",
          "text": [
            "100% (1212 of 1212) |####################| Elapsed Time: 0:06:10 Time:  0:06:10\n"
          ],
          "name": "stderr"
        },
        {
          "output_type": "stream",
          "text": [
            "loading finished\n",
            "\n",
            "loading COVID\n"
          ],
          "name": "stdout"
        },
        {
          "output_type": "stream",
          "text": [
            "100% (50 of 50) |########################| Elapsed Time: 0:00:14 Time:  0:00:14\n",
            "N/A% (0 of 51) |                         | Elapsed Time: 0:00:00 ETA:  --:--:--"
          ],
          "name": "stderr"
        },
        {
          "output_type": "stream",
          "text": [
            "loading non-COVID\n"
          ],
          "name": "stdout"
        },
        {
          "output_type": "stream",
          "text": [
            "100% (51 of 51) |########################| Elapsed Time: 0:00:20 Time:  0:00:20\n"
          ],
          "name": "stderr"
        },
        {
          "output_type": "stream",
          "text": [
            "loading finished\n",
            "\n",
            "parameter: {'kernel': 'poly', 'C': 0.5, 'degree': 7}\n",
            "training accuracy: 1.0\n",
            "testing accuracy: 0.889958158995816\n",
            "current best: {'kernel': 'poly', 'C': 0.5, 'degree': 7} 0.889958158995816\n",
            "SVM MODEL ACC: 0.7128712871287128\n"
          ],
          "name": "stdout"
        }
      ]
    },
    {
      "cell_type": "markdown",
      "metadata": {
        "id": "qHskLxJ-QwMa"
      },
      "source": [
        "**OUR MODEL**"
      ]
    },
    {
      "cell_type": "code",
      "metadata": {
        "id": "QF2m9Dych2EN"
      },
      "source": [
        "def get_weight(x, y, color='hot'):\n",
        "  covid_img = np.array([x[i,:] for i in range(len(y)) if y[i]])\n",
        "  noncovid_img = np.array([x[i,:] for i in range(len(y)) if not y[i]])\n",
        "  covid_weight = np.array([sum(covid_img[:,i]) for i in range(covid_img.shape[1])]).reshape(200,200)/covid_img.shape[1]\n",
        "  noncovid_weight = np.array([sum(noncovid_img[:,i]) for i in range(noncovid_img.shape[1])]).reshape(200,200)/noncovid_img.shape[1]\n",
        "\n",
        "  covid_hotspot = np.max(covid_weight)-covid_weight\n",
        "  noncovid_hotspot = np.max(noncovid_weight)-noncovid_weight\n",
        "  weight = (covid_hotspot+noncovid_hotspot)/2\n",
        "  plt.imshow(weight,cmap=color,interpolation='nearest')\n",
        "  plt.show()\n",
        "\n",
        "  return weight\n",
        "\n",
        "def get_edges(img_array, threshold):\n",
        "  minim, maxim = threshold\n",
        "  edges = cv2.Canny(img_array,minim,maxim)\n",
        "  return (edges/255).flatten()\n"
      ],
      "execution_count": null,
      "outputs": []
    },
    {
      "cell_type": "code",
      "metadata": {
        "id": "Dpx8YfWTWaWq"
      },
      "source": [
        "def our_model_predict(x_test, y_test, weight, threshold, models, params):\n",
        "  e_val, m_val, v_val, s_val, b_val, fraction, number, show = params\n",
        "  minim, maxim = threshold\n",
        "  \n",
        "  covid_model, noncovid_model = models\n",
        "  laplacian = np.array([[0,1,0],[1,-4,1],[0,1,0]])\n",
        "  y_predict = []\n",
        "\n",
        "  for i in progressbar.progressbar(range(x_test.shape[0])):\n",
        "    covid_score, noncovid_score = 0, 0\n",
        "    img = x_test[i,:].reshape(200,200)\n",
        "    edge_info = cv2.Canny(img,minim,maxim)\n",
        "\n",
        "    covid_res, noncovid_res = np.zeros(5), np.zeros(5)\n",
        "    ind_flat = np.random.choice(np.arange(40000).reshape(200,200)[weight>=fraction*np.max(weight)],number)\n",
        "    count = 1\n",
        "    for ind in ind_flat:\n",
        "      x_coord, y_coord = int(ind%200), int(ind/200)\n",
        "      if 12<x_coord<188 and 12<y_coord<188:\n",
        "        test_block = img[max(0,y_coord-10):min(y_coord+10,200),max(0,x_coord-10):min(x_coord+10,200)]\n",
        "        block = img[max(0,y_coord-25):min(y_coord+25,200),max(0,x_coord-25):min(x_coord+25,200)]\n",
        "        if not (np.std(test_block)<=50 and np.mean(test_block)>=175):\n",
        "          count += 1\n",
        "          block_edge = sum(get_edges(block,threshold))\n",
        "          block_mean, block_var = np.mean(block), np.max(block)-np.min(block)\n",
        "          block_std = np.std(block)\n",
        "          block_blur = np.std(np.convolve(block.flatten(),laplacian.flatten(),mode='same'))**2\n",
        "          covid_res += np.array([block_edge,block_mean,block_var,block_std,block_blur])\n",
        "          noncovid_res += np.array([block_edge,block_mean,block_var,block_std,block_blur])\n",
        "    covid_res, noncovid_res = covid_res/count, noncovid_res/count\n",
        "    covid_score = e_val*(covid_res[0]-covid_model[0])/covid_model[0] + m_val*(covid_res[1]-covid_model[1])/covid_model[1] +\\\n",
        "     v_val*(covid_model[2]-covid_res[2])/covid_model[2] + s_val*(covid_res[3]-covid_model[3])/covid_model[3] + b_val*(covid_res[4]-covid_model[4])/covid_model[4]\n",
        "    noncovid_score = e_val*(covid_model[0]-noncovid_res[0])/noncovid_model[0] + m_val*(covid_model[1]-noncovid_res[1])/noncovid_model[1] +\\\n",
        "     v_val*(noncovid_res[2]-noncovid_model[2])/noncovid_model[2] + s_val*(noncovid_res[3]-noncovid_model[3])/noncovid_model[3] + b_val*(noncovid_res[4]-noncovid_model[4])/noncovid_model[4]\n",
        "\n",
        "    res = int(covid_score >= noncovid_score)\n",
        "    y_predict.append(res)\n",
        "\n",
        "  same = [int(y_predict[i] == y_test[i]) for i in range(len(y_predict))]\n",
        "  accuracy = sum(same)/len(y_predict)\n",
        "  return accuracy"
      ],
      "execution_count": null,
      "outputs": []
    },
    {
      "cell_type": "code",
      "metadata": {
        "id": "MSMBu04mucSV"
      },
      "source": [
        "def our_model_visualize(image, weight, threshold, params):\n",
        "  import statistics\n",
        "  e_val, m_val, v_val, s_val, b_val, fraction, number, show = params\n",
        "  minim, maxim = threshold\n",
        "\n",
        "  img = load_single_img(image).reshape(200,200)\n",
        "  edge_info = cv2.Canny(img,minim,maxim)\n",
        "  ind_flat = np.random.choice(np.arange(40000).reshape(200,200)[weight>=fraction*np.max(weight)],number)\n",
        "  p = plt.subplots(1)[1]\n",
        "  p.imshow(img, cmap='gray', vmin=0, vmax=255)\n",
        "  for ind in ind_flat:\n",
        "    x_coord, y_coord = int(ind%200), int(ind/200)\n",
        "    block = img[max(0,y_coord-10):min(y_coord+10,200),max(0,x_coord-10):min(x_coord+10,200)]\n",
        "    if 12<x_coord<188 and 12<y_coord<188:\n",
        "      if not (np.std(block)<=50 and np.mean(block)>=175):\n",
        "        rect = patches.Rectangle((x_coord-25,y_coord-25),50,50,linewidth=2,edgecolor='r',facecolor='none')\n",
        "        p.add_patch(rect)\n",
        "      else:\n",
        "        rect = patches.Rectangle((x_coord-25,y_coord-25),50,50,linewidth=2,edgecolor='b',facecolor='none')\n",
        "        p.add_patch(rect)\n",
        "  plt.show()\n",
        "  "
      ],
      "execution_count": null,
      "outputs": []
    },
    {
      "cell_type": "code",
      "metadata": {
        "id": "d87_T-Z2IQFv"
      },
      "source": [
        "def our_cross_validation(x_train, y_train, weight, threshold, params, nfolds):\n",
        "  e_val, m_val, v_val, s_val, b_val, fraction, number, show = params\n",
        "  minim, maxim = threshold\n",
        "\n",
        "  vali_accs, train_accs = [], []\n",
        "  for i in range(nfolds):\n",
        "    print('\\nCurrent fold:',i)\n",
        "    xtrain, ytrain, xvali, yvali = fold(x_train, y_train, i, nfolds)\n",
        "    covid_model, noncovid_model = train_select_model_our(xtrain, ytrain, weight, threshold, params)\n",
        "    train_acc = our_model_predict(xtrain, ytrain, weight, threshold, (covid_model,noncovid_model), params)\n",
        "    vali_acc = our_model_predict(xvali, yvali, weight, threshold, (covid_model,noncovid_model), params)\n",
        "    \n",
        "    train_accs.append(train_acc)\n",
        "    vali_accs.append(vali_acc)\n",
        "  vali_accuracy = sum(vali_accs)/len(vali_accs)\n",
        "  train_accuracy = sum(train_accs)/len(train_accs)\n",
        "  print()\n",
        "  print('training accuracy:',train_accuracy)\n",
        "  print('validation accuracy:',vali_accuracy)\n",
        "  "
      ],
      "execution_count": null,
      "outputs": []
    },
    {
      "cell_type": "code",
      "metadata": {
        "id": "FxqWxZHCnSjZ"
      },
      "source": [
        "def train_select_model_our(x_train, y_train, weight, threshold, params):\n",
        "  e_val, m_val, v_val, s_val, b_val, fraction, number, show = params\n",
        "  covid_model, noncovid_model = np.zeros(5), np.zeros(5) #[edgeNumber,mean,var]\n",
        "  minim, maxim = threshold\n",
        "  laplacian = np.array([[0,1,0],[1,-4,1],[0,1,0]])\n",
        "  \n",
        "  for i in progressbar.progressbar(range(x_train.shape[0])):\n",
        "    img = x_train[i,:].reshape(200,200)\n",
        "    edge_info = cv2.Canny(img,minim,maxim)\n",
        "    img_score = np.zeros(5)\n",
        "    ind_flat = np.random.choice(np.arange(40000).reshape(200,200)[weight>=fraction*np.max(weight)],number)\n",
        "    count = 1\n",
        "    for ind in ind_flat:\n",
        "      x_coord, y_coord = int(ind%200), int(ind/200)\n",
        "      if 12<x_coord<188 and 12<y_coord<188:\n",
        "        test_block = img[max(0,y_coord-10):min(y_coord+10,200),max(0,x_coord-10):min(x_coord+10,200)]\n",
        "        block = img[max(0,y_coord-25):min(y_coord+25,200),max(0,x_coord-25):min(x_coord+25,200)]\n",
        "        if not (np.std(test_block)<=50 and np.mean(test_block)>=175):\n",
        "          count += 1\n",
        "          block_edge = sum(get_edges(block,threshold))\n",
        "          block_mean, block_var = np.mean(block), np.max(block)-np.min(block)\n",
        "          block_std = np.std(block)\n",
        "          block_blur = np.std(np.convolve(block.flatten(),laplacian.flatten(),mode='same'))**2\n",
        "          img_score += np.array([block_edge,block_mean,block_var,block_std, block_blur])\n",
        "    if y_train[i]:\n",
        "      covid_model += img_score/count\n",
        "    else:\n",
        "      noncovid_model += img_score/count\n",
        "\n",
        "  covid_model /= np.sum(y_train)\n",
        "  noncovid_model /= (len(y_train)-np.sum(y_train))\n",
        "  if show:\n",
        "    print()\n",
        "    print(covid_model)\n",
        "    print(noncovid_model)\n",
        "  return covid_model, noncovid_model\n"
      ],
      "execution_count": null,
      "outputs": []
    },
    {
      "cell_type": "markdown",
      "metadata": {
        "id": "1WpvVvoEhGTq"
      },
      "source": [
        "Run Our Model"
      ]
    },
    {
      "cell_type": "code",
      "metadata": {
        "colab": {
          "base_uri": "https://localhost:8080/",
          "height": 917
        },
        "id": "tW-zzEadhJAO",
        "outputId": "50c6f7f9-5286-4747-ecec-66d2a9322e98"
      },
      "source": [
        "# RUN Our Model\n",
        "# OUR MODEL (SYC)\n",
        "FOLD = 3\n",
        "THRESHOLD = (200,210)\n",
        "PARAMS = [5,2,3,2,1,0.8,25,True]\n",
        "\n",
        "xtrain, xtest, ytrain, ytest = processData()\n",
        "weight = get_weight(xtrain, ytrain)\n",
        "\n",
        "select = np.random.choice(np.array(range(1,1213)),1)[0]\n",
        "our_model_visualize('/content/drive/My Drive/template/archive/COVID/Covid ('+str(select)+').png', weight, THRESHOLD, PARAMS)\n",
        "\n",
        "print('\\nTRAINING')\n",
        "covid_model, noncovid_model = train_select_model_our(xtrain, ytrain, weight, THRESHOLD, PARAMS)\n",
        "print('\\nPREDICTING')\n",
        "accuracy = our_model_predict(xtest, ytest, weight, THRESHOLD, (covid_model,noncovid_model), PARAMS)\n",
        "print('OUR MODEL ACC:', accuracy)"
      ],
      "execution_count": null,
      "outputs": [
        {
          "output_type": "stream",
          "text": [
            "  2% (30 of 1178) |                      | Elapsed Time: 0:00:00 ETA:   0:00:06"
          ],
          "name": "stderr"
        },
        {
          "output_type": "stream",
          "text": [
            "loading non-COVID\n"
          ],
          "name": "stdout"
        },
        {
          "output_type": "stream",
          "text": [
            "100% (1178 of 1178) |####################| Elapsed Time: 0:00:06 Time:  0:00:06\n",
            "  2% (31 of 1212) |                      | Elapsed Time: 0:00:00 ETA:   0:00:06"
          ],
          "name": "stderr"
        },
        {
          "output_type": "stream",
          "text": [
            "loading COVID\n"
          ],
          "name": "stdout"
        },
        {
          "output_type": "stream",
          "text": [
            "100% (1212 of 1212) |####################| Elapsed Time: 0:00:06 Time:  0:00:06\n",
            " 38% (19 of 50) |#########               | Elapsed Time: 0:00:00 ETA:   0:00:00"
          ],
          "name": "stderr"
        },
        {
          "output_type": "stream",
          "text": [
            "loading finished\n",
            "\n",
            "loading COVID\n"
          ],
          "name": "stdout"
        },
        {
          "output_type": "stream",
          "text": [
            "100% (50 of 50) |########################| Elapsed Time: 0:00:00 Time:  0:00:00\n",
            " 62% (32 of 51) |###############         | Elapsed Time: 0:00:00 ETA:   0:00:00"
          ],
          "name": "stderr"
        },
        {
          "output_type": "stream",
          "text": [
            "loading non-COVID\n"
          ],
          "name": "stdout"
        },
        {
          "output_type": "stream",
          "text": [
            "100% (51 of 51) |########################| Elapsed Time: 0:00:00 Time:  0:00:00\n"
          ],
          "name": "stderr"
        },
        {
          "output_type": "stream",
          "text": [
            "loading finished\n",
            "\n"
          ],
          "name": "stdout"
        },
        {
          "output_type": "display_data",
          "data": {
            "image/png": "[encoded data removed]",
            "text/plain": [
              "<Figure size 432x288 with 1 Axes>"
            ]
          },
          "metadata": {
            "tags": [],
            "needs_background": "light"
          }
        },
        {
          "output_type": "display_data",
          "data": {
            "image/png": "[encoded data removed]",
            "text/plain": [
              "<Figure size 432x288 with 1 Axes>"
            ]
          },
          "metadata": {
            "tags": [],
            "needs_background": "light"
          }
        },
        {
          "output_type": "stream",
          "text": [
            "  0% (5 of 2390) |                       | Elapsed Time: 0:00:00 ETA:   0:00:55"
          ],
          "name": "stderr"
        },
        {
          "output_type": "stream",
          "text": [
            "\n",
            "TRAINING\n"
          ],
          "name": "stdout"
        },
        {
          "output_type": "stream",
          "text": [
            "100% (2390 of 2390) |####################| Elapsed Time: 0:00:49 Time:  0:00:49\n",
            "  8% (9 of 101) |##                      | Elapsed Time: 0:00:00 ETA:   0:00:01"
          ],
          "name": "stderr"
        },
        {
          "output_type": "stream",
          "text": [
            "\n",
            "[ 184.81839792  121.68244941  174.44006904   48.97248605 7555.56774054]\n",
            "[ 140.4492304   114.23116231  177.01229174   47.9619107  7330.20732148]\n",
            "\n",
            "PREDICTING\n"
          ],
          "name": "stdout"
        },
        {
          "output_type": "stream",
          "text": [
            "100% (101 of 101) |######################| Elapsed Time: 0:00:02 Time:  0:00:02\n"
          ],
          "name": "stderr"
        },
        {
          "output_type": "stream",
          "text": [
            "OUR MODEL ACC: 0.8514851485148515\n"
          ],
          "name": "stdout"
        }
      ]
    },
    {
      "cell_type": "markdown",
      "metadata": {
        "id": "yN9lEfPZupsc"
      },
      "source": [
        "**MAIN FUNCTION**"
      ]
    },
    {
      "cell_type": "code",
      "metadata": {
        "id": "AxGsD2kxgsiX"
      },
      "source": [
        "if __name__ == '__main__':\n",
        "  ALL_MODELS = ['CNN','MLP','ResNet101','KNN','SVM','OUR'] # add more\n",
        "  test_model = ['OUR'] # change this\n",
        "  for model in ALL_MODELS: # change to in ALL_MODELS in final submission\n",
        "    if model == 'CNN':\n",
        "      # CNN (CCY)\n",
        "      xtrain, xtest, ytrain, ytest = processData()\n",
        "      xtest = xtest.reshape(-1, 200, 200, 1)\n",
        "      model, history = train_and_select_model_cnn(xtrain, ytrain)\n",
        "      loss_test, acc_test = model.evaluate(xtest, ytest)\n",
        "      plot_history(history)\n",
        "\n",
        "    elif model == 'MLP':\n",
        "      # MLP (RTC)\n",
        "      train_file = '/content/drive/My Drive/template/archive/'\n",
        "      mlp_model, mlp_history = train_and_select_model(train_file)\n",
        "      plot_history(mlp_history)\n",
        "\n",
        "    elif model == 'ResNet101':\n",
        "      # ResNet (WYW)\n",
        "      xtrain, xtest, ytrain, ytest = processData()\n",
        "      x_train_re = x_train.reshape(-1, 200, 200)\n",
        "      y_train_re = y_train.reshape(len(y_train), 1)\n",
        "\n",
        "      x_test_re = x_test.reshape(-1, 200, 200)\n",
        "      y_test_re = y_test.reshape(len(y_test),1)\n",
        "\n",
        "      x_train_re_stack = np.stack((x_train_re,)*3, axis=-1)\n",
        "      x_test_re_stack = np.stack((x_test_re,)*3, axis=-1)\n",
        "\n",
        "      checkpoint_path = \"training_1/cp2.ckpt\"\n",
        "      checkpoint_dir = os.path.dirname(checkpoint_path)\n",
        "      checkpoint = ModelCheckpoint(filepath=checkpoint_path, verbose=1, monitor='val_accuracy', save_best_only=True, save_weights_only=True)\n",
        "\n",
        "      args = {\n",
        "          'optimization': keras.optimizers.RMSprop(learning_rate=2e-5, momentum=0.9),\n",
        "          'loss': 'binary_crossentropy',\n",
        "          'epoch': 30,\n",
        "          'batch_size': 32,\n",
        "          'validation_split': 0.3\n",
        "      }\n",
        "\n",
        "      history =  create_resnet152(x_train_re_stack, y_train_re, args=args)\n",
        "      plotResNetAcc(history)\n",
        "      plotResNetLoss(history)\n",
        "      history.model.load_weights(checkpoint_path)\n",
        "      print(history.model.evaluate(x_test_re_stack, y_test_re))\n",
        "\n",
        "    elif model == 'KNN':\n",
        "      # KNN (CCY)\n",
        "      X_train, X_test, y_train, y_test = processData()\n",
        "      klist = [1,2,3,4,5,6,7,8]\n",
        "      accuracy_list = KNN()\n",
        "      print(accuracy_list)\n",
        "      plt.bar(klist,accuracy_list)\n",
        "      plt.title(\"Accuracy VS K value\")\n",
        "      plt.show()\n",
        "\n",
        "    elif model == 'SVM':\n",
        "      # SVM (SYC)\n",
        "      FOLD = 5\n",
        "\n",
        "      xtrain, xtest, ytrain, ytest = processData()\n",
        "      best_model, best_score = train_select_model_svm(xtrain, ytrain, FOLD)\n",
        "\n",
        "      acc = best_model.score(xtest, ytest)\n",
        "      print('SVM MODEL ACC:', acc)\n",
        "\n",
        "    elif model == 'OUR':\n",
        "      # OUR MODEL (SYC)\n",
        "      FOLD = 3\n",
        "      THRESHOLD = (200,210)\n",
        "      PARAMS = [5,2,3,2,1,0.8,25,True]\n",
        "\n",
        "      xtrain, xtest, ytrain, ytest = processData()\n",
        "      weight = get_weight(xtrain, ytrain)\n",
        "\n",
        "      select = np.random.choice(np.array(range(1,1213)),1)[0]\n",
        "      our_model_visualize('/content/drive/My Drive/template/archive/COVID/Covid ('+str(select)+').png', weight, THRESHOLD, PARAMS)\n",
        "\n",
        "      print('\\nTRAINING')\n",
        "      covid_model, noncovid_model = train_select_model_our(xtrain, ytrain, weight, THRESHOLD, PARAMS)\n",
        "      print('\\nPREDICTING')\n",
        "      accuracy = our_model_predict(xtest, ytest, weight, THRESHOLD, (covid_model,noncovid_model), PARAMS)\n",
        "      print('OUR MODEL ACC:', accuracy)\n"
      ],
      "execution_count": null,
      "outputs": []
    }
  ]
}